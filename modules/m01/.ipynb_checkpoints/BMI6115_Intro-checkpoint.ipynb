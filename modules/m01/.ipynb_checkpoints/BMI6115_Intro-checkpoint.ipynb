{
 "cells": [
  {
   "cell_type": "markdown",
   "metadata": {},
   "source": [
    "# BMI 6115 Introduction to Biomedical Text Processing\n",
    "-------------\n",
    "(Some materials are borrowed from BMI6018 by Dr. Brian Chapman)\n",
    "\n",
    "\n",
    "This course assumes the following :\n",
    "* basic familiarity with Python programming language and common Python packages\n",
    "* understanding of relational databases and basic knowledge of SQL\n",
    "* familiarity with Linux file system and basic commands that allow navigating without graphic user interface\n",
    "* basic understanding of git version control\n",
    "    \n",
    "\n",
    "\n",
    "\n",
    "The following references can help with achiving the necessary background:\n",
    "\n",
    "* [Python programming](https://www.codecademy.com/learn/learn-python)\n",
    "* [Basics of SQL](https://www.w3schools.com/sql/sql_intro.asp)\n",
    "* [Navigating the Linux file system](./Pages/navigating_file_system.ipynb)\n",
    "* [Using the vi text editor](./Pages/vi.ipynb)\n",
    "* [Using git for version control](./Pages/git_getting_started.ipynb)\n"
   ]
  }
 ],
 "metadata": {
  "kernelspec": {
   "display_name": "Python 3",
   "language": "python",
   "name": "python3"
  },
  "language_info": {
   "codemirror_mode": {
    "name": "ipython",
    "version": 3
   },
   "file_extension": ".py",
   "mimetype": "text/x-python",
   "name": "python",
   "nbconvert_exporter": "python",
   "pygments_lexer": "ipython3",
   "version": "3.6.1"
  }
 },
 "nbformat": 4,
 "nbformat_minor": 2
}
